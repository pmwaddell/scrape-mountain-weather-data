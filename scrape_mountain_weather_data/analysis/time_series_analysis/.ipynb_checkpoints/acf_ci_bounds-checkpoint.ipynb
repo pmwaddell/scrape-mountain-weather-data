{
 "cells": [
  {
   "cell_type": "code",
   "execution_count": null,
   "id": "b89b3e95-bed1-4da5-a79e-c17c5854f271",
   "metadata": {},
   "outputs": [],
   "source": [
    "import pandas as pd\n",
    "import matplotlib.pyplot as plt\n",
    "import statsmodels\n",
    "import statsmodels.api as sm\n",
    "from statsmodels.graphics.tsaplots import acf\n",
    "from statsmodels.graphics.tsaplots import pacf\n",
    "from statsmodels.graphics.tsaplots import plot_acf\n",
    "from statsmodels.graphics.tsaplots import plot_pacf"
   ]
  },
  {
   "cell_type": "code",
   "execution_count": null,
   "id": "6398e772-f72f-4818-836a-84e4911371f8",
   "metadata": {},
   "outputs": [],
   "source": [
    "# The purpose of this notebook is for me to get a better understanding of the confidence intervals from plot_acf() and plot_pacf().\n",
    "# Standard texts suggest that the confidence intervals for these analyses should be +/- 1.96/(N^0.5) at 95% level, where N is the number of obsevations.\n",
    "# This leads to straight lines, but the CIs from those functions are not straight. I want to be clear on what we're looking at and what the difference is."
   ]
  },
  {
   "cell_type": "code",
   "execution_count": null,
   "id": "bff2b716-3056-444c-93fc-452d69ffa023",
   "metadata": {},
   "outputs": [],
   "source": [
    "chill = pd.read_csv('data_csvs/everest_8000m_chill_time_series.csv')\n",
    "chill['chill'].plot()\n",
    "plt.title('Chill Time Series, Everest 8000m, May 13 to July 1 2024')\n",
    "plt.xlabel('data point')\n",
    "plt.ylabel('chill (degrees C)')\n",
    "plt.show()"
   ]
  },
  {
   "cell_type": "code",
   "execution_count": null,
   "id": "2b4ae50a-c198-4f51-b11e-017476549844",
   "metadata": {},
   "outputs": [],
   "source": [
    "# Plot the autocorrelation for chill data with significance level of 0.05\n",
    "plot_acf(chill['chill'], alpha=0.05)\n",
    "plt.title('Autocorrelation of Chill Time Series')\n",
    "plt.xlabel('lag')\n",
    "plt.ylabel('ACF')\n",
    "plt.show()"
   ]
  },
  {
   "cell_type": "code",
   "execution_count": null,
   "id": "d4167cb9-8dac-4772-96f2-ac56399fdc65",
   "metadata": {},
   "outputs": [],
   "source": [
    "acf_values, confint = acf(chill['chill'], alpha=0.05)\n",
    "print(acf_values)\n",
    "print(confint)"
   ]
  },
  {
   "cell_type": "code",
   "execution_count": null,
   "id": "fc207e28-8145-4b65-b2a3-4ee4eae02469",
   "metadata": {},
   "outputs": [],
   "source": [
    "# So, the confidence intervals that are returned from acf() are centered around the actual ACF value for each lag.\n",
    "# To some extent, the higher autocorrelations will have their CI size limited by 1.0.\n",
    "\n",
    "# In the plot, the CIs are centered around 0. So to get these bounds, you have to subtract the acf value from each.\n",
    "lower_bound = confint[1:, 0] - acf_values[1:]\n",
    "upper_bound = confint[1:, 1] - acf_values[1:]\n",
    "bounds = pd.DataFrame([lower_bound, upper_bound])\n",
    "print(bounds)"
   ]
  },
  {
   "cell_type": "code",
   "execution_count": null,
   "id": "2b5859bc-334f-4399-84f9-17c087aa9320",
   "metadata": {},
   "outputs": [],
   "source": [
    "# So it goes from about 0.16 to just over 0.5, matching what we see in the plot."
   ]
  },
  {
   "cell_type": "code",
   "execution_count": null,
   "id": "73f55060-6fcb-467e-a7e4-7f34b26badb0",
   "metadata": {},
   "outputs": [],
   "source": []
  },
  {
   "cell_type": "code",
   "execution_count": null,
   "id": "dab16731-c17c-4550-a25b-18f061e3ba54",
   "metadata": {},
   "outputs": [],
   "source": [
    "# According to the documentation:\n",
    "# https://tedboy.github.io/statsmodels_doc/generated/statsmodels.graphics.tsaplots.acf.html\n",
    "# the standard deviations are determined by Bartlett's Formula.\n",
    "\n",
    "# To me the question is: why are these values so high in this case? Why is it so different from +/- 1.96/(T^0.5)??"
   ]
  }
 ],
 "metadata": {
  "kernelspec": {
   "display_name": "Python 3 (ipykernel)",
   "language": "python",
   "name": "python3"
  },
  "language_info": {
   "codemirror_mode": {
    "name": "ipython",
    "version": 3
   },
   "file_extension": ".py",
   "mimetype": "text/x-python",
   "name": "python",
   "nbconvert_exporter": "python",
   "pygments_lexer": "ipython3",
   "version": "3.9.2"
  }
 },
 "nbformat": 4,
 "nbformat_minor": 5
}
